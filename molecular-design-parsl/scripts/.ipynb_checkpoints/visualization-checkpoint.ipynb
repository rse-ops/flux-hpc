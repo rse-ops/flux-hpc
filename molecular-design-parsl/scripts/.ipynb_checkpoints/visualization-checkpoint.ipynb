{
 "cells": [
  {
   "cell_type": "markdown",
   "metadata": {},
   "source": [
    "Visualizing our Simulations\n",
    "========================\n",
    "\n",
    "Each time we run our Maestro study, we add 10 new runs of the ball bouncing simulation to our datastore. Now let's take a look at those results..."
   ]
  },
  {
   "cell_type": "code",
   "execution_count": null,
   "metadata": {},
   "outputs": [],
   "source": [
    "from numbers import Number\n",
    "from collections import defaultdict\n",
    "\n",
    "import matplotlib.pyplot as plt\n",
    "import ipywidgets as widgets\n",
    "from IPython.display import display, clear_output\n",
    "\n",
    "import sina.datastores.sql as sina_sql\n",
    "import sina.utils\n",
    "from sina.datastore import create_datastore\n",
    "from sina.visualization import Visualizer\n",
    "\n",
    "# %matplotlib notebook\n",
    "\n",
    "# use this instead of notebook if using vscode, unless you install the matplotlib extension\n",
    "%matplotlib widget\n",
    "\n",
    "# Initialization\n",
    "database = 'output.sqlite'\n",
    "target_type = \"csv_rec\"\n",
    "datastore = create_datastore(database)\n",
    "recs = datastore.records\n",
    "vis = Visualizer(datastore)\n",
    "print(\"Sina is ready!\")"
   ]
  },
  {
   "cell_type": "markdown",
   "metadata": {},
   "source": [
    "Sanity Check: are our runs randomized?\n",
    "========\n",
    "\n",
    "We want to make sure our starting positions are properly randomized. There should be a variety of values in this graph."
   ]
  },
  {
   "cell_type": "code",
   "execution_count": null,
   "metadata": {
    "scrolled": false
   },
   "outputs": [],
   "source": [
    "_= vis.create_histogram(\"x_vel_initial\", interactive=True)"
   ]
  },
  {
   "cell_type": "markdown",
   "metadata": {},
   "source": [
    "Simple hypothesis testing\n",
    "===============\n",
    "\n",
    "Could there be a relationship between having a high initial velocity and a high number of bounces?"
   ]
  },
  {
   "cell_type": "code",
   "execution_count": null,
   "metadata": {
    "scrolled": false
   },
   "outputs": [],
   "source": [
    "_ = vis.create_scatter_plot(\"y_vel_initial\", \"num_bounces\", interactive=True, matplotlib_options={\"color\": \"orange\", \"alpha\": 0.5, \"s\": 80})"
   ]
  },
  {
   "cell_type": "markdown",
   "metadata": {},
   "source": [
    "Actually watching a ball bounce\n",
    "===========================\n",
    "\n",
    "Since we're collecting position at each step, we can easily visualize how the ball bounching actually works...we'll select the ball with the high number of bounces for interest."
   ]
  },
  {
   "cell_type": "code",
   "execution_count": null,
   "metadata": {},
   "outputs": [],
   "source": [
    "id_pool = list(recs.find_with_max(\"num_bounces\", 1, ids_only=True))\n",
    "_ = vis.create_line_plot(\"x_pos\", \"y_pos\", id_pool=id_pool)"
   ]
  },
  {
   "cell_type": "markdown",
   "metadata": {},
   "source": [
    "Scaling Up\n",
    "==========\n",
    "\n",
    "Each run within a set shares a few starting conditions, but differs in several others. Let's see a whole set together in 3D space to compare their performances. First, let's see what groups we have available."
   ]
  },
  {
   "cell_type": "code",
   "execution_count": null,
   "metadata": {},
   "outputs": [],
   "source": [
    "groups = set(x[\"group_id\"][\"value\"] for x in recs.get_data([\"group_id\"]).values())\n",
    "print(\"Found the following groups: {}\".format(groups))"
   ]
  },
  {
   "cell_type": "markdown",
   "metadata": {},
   "source": [
    "Pick whichever you like, set `GROUP_OF_INTEREST` equal to it, and watch the \"fireworks\"!\n",
    "\n",
    "This 3D plot isn't (yet) a formal part of Sina, but it's simple enough."
   ]
  },
  {
   "cell_type": "code",
   "execution_count": null,
   "metadata": {},
   "outputs": [],
   "source": [
    "from mpl_toolkits import mplot3d\n",
    "import numpy as np\n",
    "import matplotlib.pyplot as plt\n",
    "\n",
    "# For the purposes of this demo, chose the first.\n",
    "GROUP_OF_INTEREST = list(groups)[0]\n",
    "print(f\"Group of interest is {GROUP_OF_INTEREST}\")\n",
    "\n",
    "id_pool = list(recs.find_with_data(group_id=GROUP_OF_INTEREST))\n",
    "\n",
    "ball_set_fig = plt.figure()\n",
    "ball_set_ax = plt.axes(projection='3d')\n",
    "\n",
    "for rec_id in id_pool:\n",
    "    rec = recs.get(rec_id)\n",
    "    # Some slight weirdness due to 3D axis labeling...simulation thinks of y as up-down\n",
    "    ball_set_ax.plot3D(rec.data[\"x_pos\"][\"value\"],\n",
    "                       rec.data[\"z_pos\"][\"value\"],\n",
    "                       rec.data[\"y_pos\"][\"value\"],\n",
    "                       label=rec_id)\n",
    "    ball_set_ax.set_xlabel('X')\n",
    "    ball_set_ax.set_zlabel('Y')\n",
    "    ball_set_ax.set_ylabel('Z')\n",
    "_ = ball_set_ax.legend()"
   ]
  },
  {
   "cell_type": "markdown",
   "metadata": {},
   "source": [
    "Close Curve Analysis with PyDV\n",
    "=========================\n",
    "\n",
    "While Sina allows you to survey large numbers of runs at once, it doesn't include many operations on individual curves. PyDV works directly with Sina, though, opening the door to some extremely powerful manipulations. Here, we'll perform a fourier transform to see the frequency spectrum of the ball bouncing.\n",
    "\n",
    "TODO:\n",
    "- change fourier transform out psuedocode mode\n",
    "- add time"
   ]
  },
  {
   "cell_type": "code",
   "execution_count": null,
   "metadata": {},
   "outputs": [],
   "source": [
    "# Note: pydv's big! Importing it may take a moment.\n",
    "from pydv import pydvpy as pydv\n",
    "import io\n",
    "import json\n",
    "\n",
    "# PyDV operates on files. We'll dump one of Sina's records to a file\n",
    "PYDV_DEMO_FILENAME = \"pydv_demo_sina.json\"\n",
    "with open(PYDV_DEMO_FILENAME, 'w') as f:\n",
    "    json.dump(recs.get(rec_id).raw, f)\n",
    "\n",
    "  \n",
    "# Commented out - this returns a list and does not work\n",
    "# Likely it's raw data we just need to plot with matplotlib\n",
    "curves = pydv.readsina(PYDV_DEMO_FILENAME)  # raw?\n",
    "print(curves)\n",
    "# curve = curves.create_curve(x=\"time\", y=\"y_pos\")\n",
    "# plt.plot(pydv.fft(curve))"
   ]
  }
 ],
 "metadata": {
  "kernelspec": {
   "display_name": "Python 3 (ipykernel)",
   "language": "python",
   "name": "python3"
  },
  "language_info": {
   "codemirror_mode": {
    "name": "ipython",
    "version": 3
   },
   "file_extension": ".py",
   "mimetype": "text/x-python",
   "name": "python",
   "nbconvert_exporter": "python",
   "pygments_lexer": "ipython3",
   "version": "3.9.12"
  }
 },
 "nbformat": 4,
 "nbformat_minor": 2
}
